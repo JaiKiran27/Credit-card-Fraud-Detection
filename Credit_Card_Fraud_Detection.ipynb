{
  "cells": [
    {
      "cell_type": "markdown",
      "metadata": {
        "id": "TDnoEQTWStTz"
      },
      "source": [
        "Importing the Dependencies"
      ]
    },
    {
      "cell_type": "code",
      "execution_count": 1,
      "metadata": {
        "id": "hlNfrSC1PGfZ"
      },
      "outputs": [],
      "source": [
        "import numpy as np\n",
        "import pandas as pd\n",
        "from sklearn.model_selection import train_test_split\n",
        "from sklearn.linear_model import LogisticRegression\n",
        "from sklearn.metrics import accuracy_score"
      ]
    },
    {
      "cell_type": "code",
      "execution_count": 2,
      "metadata": {
        "id": "W0CTsNioTKnJ"
      },
      "outputs": [],
      "source": [
        "# loading the dataset to a Pandas DataFrame\n",
        "data = pd.read_csv('C:/Users/Asus/OneDrive/Desktop/Credit Fraud/Credit_Card_Fraud_Detection_Dataset.csv')"
      ]
    },
    {
      "cell_type": "code",
      "execution_count": 3,
      "metadata": {},
      "outputs": [
        {
          "data": {
            "text/plain": [
              "Index(['distance_from_home', 'distance_from_last_transaction',\n",
              "       'ratio_to_median_purchase_price', 'repeat_retailer', 'used_chip',\n",
              "       'used_pin_number', 'online_order', 'class'],\n",
              "      dtype='object')"
            ]
          },
          "execution_count": 3,
          "metadata": {},
          "output_type": "execute_result"
        }
      ],
      "source": [
        "data.columns"
      ]
    },
    {
      "cell_type": "code",
      "execution_count": 4,
      "metadata": {
        "colab": {
          "base_uri": "https://localhost:8080/",
          "height": 218
        },
        "id": "o_iMfyHsTa6s",
        "outputId": "318bdb4d-9f20-4789-c6e6-9b2de1aad091"
      },
      "outputs": [
        {
          "data": {
            "text/html": [
              "<div>\n",
              "<style scoped>\n",
              "    .dataframe tbody tr th:only-of-type {\n",
              "        vertical-align: middle;\n",
              "    }\n",
              "\n",
              "    .dataframe tbody tr th {\n",
              "        vertical-align: top;\n",
              "    }\n",
              "\n",
              "    .dataframe thead th {\n",
              "        text-align: right;\n",
              "    }\n",
              "</style>\n",
              "<table border=\"1\" class=\"dataframe\">\n",
              "  <thead>\n",
              "    <tr style=\"text-align: right;\">\n",
              "      <th></th>\n",
              "      <th>distance_from_home</th>\n",
              "      <th>distance_from_last_transaction</th>\n",
              "      <th>ratio_to_median_purchase_price</th>\n",
              "      <th>repeat_retailer</th>\n",
              "      <th>used_chip</th>\n",
              "      <th>used_pin_number</th>\n",
              "      <th>online_order</th>\n",
              "      <th>class</th>\n",
              "    </tr>\n",
              "  </thead>\n",
              "  <tbody>\n",
              "    <tr>\n",
              "      <th>0</th>\n",
              "      <td>57.877857</td>\n",
              "      <td>0.311140</td>\n",
              "      <td>1.945940</td>\n",
              "      <td>1</td>\n",
              "      <td>1</td>\n",
              "      <td>0</td>\n",
              "      <td>0</td>\n",
              "      <td>0</td>\n",
              "    </tr>\n",
              "    <tr>\n",
              "      <th>1</th>\n",
              "      <td>10.829943</td>\n",
              "      <td>0.175592</td>\n",
              "      <td>1.294219</td>\n",
              "      <td>1</td>\n",
              "      <td>0</td>\n",
              "      <td>0</td>\n",
              "      <td>0</td>\n",
              "      <td>0</td>\n",
              "    </tr>\n",
              "    <tr>\n",
              "      <th>2</th>\n",
              "      <td>5.091079</td>\n",
              "      <td>0.805153</td>\n",
              "      <td>0.427715</td>\n",
              "      <td>1</td>\n",
              "      <td>0</td>\n",
              "      <td>0</td>\n",
              "      <td>1</td>\n",
              "      <td>0</td>\n",
              "    </tr>\n",
              "    <tr>\n",
              "      <th>3</th>\n",
              "      <td>2.247564</td>\n",
              "      <td>5.600044</td>\n",
              "      <td>0.362663</td>\n",
              "      <td>1</td>\n",
              "      <td>1</td>\n",
              "      <td>0</td>\n",
              "      <td>1</td>\n",
              "      <td>0</td>\n",
              "    </tr>\n",
              "    <tr>\n",
              "      <th>4</th>\n",
              "      <td>44.190936</td>\n",
              "      <td>0.566486</td>\n",
              "      <td>2.222767</td>\n",
              "      <td>1</td>\n",
              "      <td>1</td>\n",
              "      <td>0</td>\n",
              "      <td>1</td>\n",
              "      <td>0</td>\n",
              "    </tr>\n",
              "  </tbody>\n",
              "</table>\n",
              "</div>"
            ],
            "text/plain": [
              "   distance_from_home  distance_from_last_transaction  \\\n",
              "0           57.877857                        0.311140   \n",
              "1           10.829943                        0.175592   \n",
              "2            5.091079                        0.805153   \n",
              "3            2.247564                        5.600044   \n",
              "4           44.190936                        0.566486   \n",
              "\n",
              "   ratio_to_median_purchase_price  repeat_retailer  used_chip  \\\n",
              "0                        1.945940                1          1   \n",
              "1                        1.294219                1          0   \n",
              "2                        0.427715                1          0   \n",
              "3                        0.362663                1          1   \n",
              "4                        2.222767                1          1   \n",
              "\n",
              "   used_pin_number  online_order  class  \n",
              "0                0             0      0  \n",
              "1                0             0      0  \n",
              "2                0             1      0  \n",
              "3                0             1      0  \n",
              "4                0             1      0  "
            ]
          },
          "execution_count": 4,
          "metadata": {},
          "output_type": "execute_result"
        }
      ],
      "source": [
        "# first 5 rows of the dataset\n",
        "data.head()"
      ]
    },
    {
      "cell_type": "code",
      "execution_count": 5,
      "metadata": {
        "colab": {
          "base_uri": "https://localhost:8080/",
          "height": 218
        },
        "id": "iWCP6YJjThIM",
        "outputId": "19097c05-c0ff-4df7-c21b-84c7cde9e7da"
      },
      "outputs": [
        {
          "data": {
            "text/html": [
              "<div>\n",
              "<style scoped>\n",
              "    .dataframe tbody tr th:only-of-type {\n",
              "        vertical-align: middle;\n",
              "    }\n",
              "\n",
              "    .dataframe tbody tr th {\n",
              "        vertical-align: top;\n",
              "    }\n",
              "\n",
              "    .dataframe thead th {\n",
              "        text-align: right;\n",
              "    }\n",
              "</style>\n",
              "<table border=\"1\" class=\"dataframe\">\n",
              "  <thead>\n",
              "    <tr style=\"text-align: right;\">\n",
              "      <th></th>\n",
              "      <th>distance_from_home</th>\n",
              "      <th>distance_from_last_transaction</th>\n",
              "      <th>ratio_to_median_purchase_price</th>\n",
              "      <th>repeat_retailer</th>\n",
              "      <th>used_chip</th>\n",
              "      <th>used_pin_number</th>\n",
              "      <th>online_order</th>\n",
              "      <th>class</th>\n",
              "    </tr>\n",
              "  </thead>\n",
              "  <tbody>\n",
              "    <tr>\n",
              "      <th>999995</th>\n",
              "      <td>2.207101</td>\n",
              "      <td>0.112651</td>\n",
              "      <td>1.626798</td>\n",
              "      <td>1</td>\n",
              "      <td>1</td>\n",
              "      <td>0</td>\n",
              "      <td>0</td>\n",
              "      <td>0</td>\n",
              "    </tr>\n",
              "    <tr>\n",
              "      <th>999996</th>\n",
              "      <td>19.872726</td>\n",
              "      <td>2.683904</td>\n",
              "      <td>2.778303</td>\n",
              "      <td>1</td>\n",
              "      <td>1</td>\n",
              "      <td>0</td>\n",
              "      <td>0</td>\n",
              "      <td>0</td>\n",
              "    </tr>\n",
              "    <tr>\n",
              "      <th>999997</th>\n",
              "      <td>2.914857</td>\n",
              "      <td>1.472687</td>\n",
              "      <td>0.218075</td>\n",
              "      <td>1</td>\n",
              "      <td>1</td>\n",
              "      <td>0</td>\n",
              "      <td>1</td>\n",
              "      <td>0</td>\n",
              "    </tr>\n",
              "    <tr>\n",
              "      <th>999998</th>\n",
              "      <td>4.258729</td>\n",
              "      <td>0.242023</td>\n",
              "      <td>0.475822</td>\n",
              "      <td>1</td>\n",
              "      <td>0</td>\n",
              "      <td>0</td>\n",
              "      <td>1</td>\n",
              "      <td>0</td>\n",
              "    </tr>\n",
              "    <tr>\n",
              "      <th>999999</th>\n",
              "      <td>58.108125</td>\n",
              "      <td>0.318110</td>\n",
              "      <td>0.386920</td>\n",
              "      <td>1</td>\n",
              "      <td>1</td>\n",
              "      <td>0</td>\n",
              "      <td>1</td>\n",
              "      <td>0</td>\n",
              "    </tr>\n",
              "  </tbody>\n",
              "</table>\n",
              "</div>"
            ],
            "text/plain": [
              "        distance_from_home  distance_from_last_transaction  \\\n",
              "999995            2.207101                        0.112651   \n",
              "999996           19.872726                        2.683904   \n",
              "999997            2.914857                        1.472687   \n",
              "999998            4.258729                        0.242023   \n",
              "999999           58.108125                        0.318110   \n",
              "\n",
              "        ratio_to_median_purchase_price  repeat_retailer  used_chip  \\\n",
              "999995                        1.626798                1          1   \n",
              "999996                        2.778303                1          1   \n",
              "999997                        0.218075                1          1   \n",
              "999998                        0.475822                1          0   \n",
              "999999                        0.386920                1          1   \n",
              "\n",
              "        used_pin_number  online_order  class  \n",
              "999995                0             0      0  \n",
              "999996                0             0      0  \n",
              "999997                0             1      0  \n",
              "999998                0             1      0  \n",
              "999999                0             1      0  "
            ]
          },
          "execution_count": 5,
          "metadata": {},
          "output_type": "execute_result"
        }
      ],
      "source": [
        "data.tail()"
      ]
    },
    {
      "cell_type": "code",
      "execution_count": 6,
      "metadata": {
        "colab": {
          "base_uri": "https://localhost:8080/"
        },
        "id": "KcCZquvEUD3A",
        "outputId": "a18d75ef-936b-4a52-8589-0acb2cc5fe4e"
      },
      "outputs": [
        {
          "name": "stdout",
          "output_type": "stream",
          "text": [
            "<class 'pandas.core.frame.DataFrame'>\n",
            "RangeIndex: 1000000 entries, 0 to 999999\n",
            "Data columns (total 8 columns):\n",
            " #   Column                          Non-Null Count    Dtype  \n",
            "---  ------                          --------------    -----  \n",
            " 0   distance_from_home              1000000 non-null  float64\n",
            " 1   distance_from_last_transaction  1000000 non-null  float64\n",
            " 2   ratio_to_median_purchase_price  1000000 non-null  float64\n",
            " 3   repeat_retailer                 1000000 non-null  int64  \n",
            " 4   used_chip                       1000000 non-null  int64  \n",
            " 5   used_pin_number                 1000000 non-null  int64  \n",
            " 6   online_order                    1000000 non-null  int64  \n",
            " 7   class                           1000000 non-null  int64  \n",
            "dtypes: float64(3), int64(5)\n",
            "memory usage: 61.0 MB\n"
          ]
        }
      ],
      "source": [
        "# dataset informations\n",
        "data.info()"
      ]
    },
    {
      "cell_type": "code",
      "execution_count": 7,
      "metadata": {
        "colab": {
          "base_uri": "https://localhost:8080/"
        },
        "id": "XxwasmfKUQiA",
        "outputId": "a1cf3e15-9491-40f9-fecb-e5d1895bc8ca"
      },
      "outputs": [
        {
          "data": {
            "text/plain": [
              "distance_from_home                0\n",
              "distance_from_last_transaction    0\n",
              "ratio_to_median_purchase_price    0\n",
              "repeat_retailer                   0\n",
              "used_chip                         0\n",
              "used_pin_number                   0\n",
              "online_order                      0\n",
              "class                             0\n",
              "dtype: int64"
            ]
          },
          "execution_count": 7,
          "metadata": {},
          "output_type": "execute_result"
        }
      ],
      "source": [
        "# checking the number of missing values in each column\n",
        "data.isnull().sum()"
      ]
    },
    {
      "cell_type": "code",
      "execution_count": 8,
      "metadata": {
        "colab": {
          "base_uri": "https://localhost:8080/"
        },
        "id": "EIpoKfp5Ugri",
        "outputId": "5150aa81-723c-424d-dcee-80f5c1e37a0f"
      },
      "outputs": [
        {
          "data": {
            "text/plain": [
              "class\n",
              "0    912597\n",
              "1     87403\n",
              "Name: count, dtype: int64"
            ]
          },
          "execution_count": 8,
          "metadata": {},
          "output_type": "execute_result"
        }
      ],
      "source": [
        "# distribution of legit transactions & fraudulent transactions\n",
        "data['class'].value_counts()"
      ]
    },
    {
      "cell_type": "markdown",
      "metadata": {
        "id": "flz_InK7VGri"
      },
      "source": [
        "This Dataset is highly unblanced"
      ]
    },
    {
      "cell_type": "markdown",
      "metadata": {
        "id": "4OlMhkHzVKMv"
      },
      "source": [
        "0 --> Normal Transaction\n",
        "\n",
        "1 --> fraudulent transaction"
      ]
    },
    {
      "cell_type": "code",
      "execution_count": 9,
      "metadata": {
        "id": "QNn77bdbU2Lf"
      },
      "outputs": [],
      "source": [
        "# Separating the data for analysis\n",
        "# Assuming the 'class' column denotes whether the transaction is legitimate (0) or fraudulent (1)\n",
        "legit = data[data['class'] == 0]\n",
        "fraud = data[data['class'] == 1]\n"
      ]
    },
    {
      "cell_type": "code",
      "execution_count": 10,
      "metadata": {},
      "outputs": [
        {
          "name": "stdout",
          "output_type": "stream",
          "text": [
            "Legitimate Transactions:\n",
            "    distance_from_home  distance_from_last_transaction  \\\n",
            "0           57.877857                        0.311140   \n",
            "1           10.829943                        0.175592   \n",
            "2            5.091079                        0.805153   \n",
            "3            2.247564                        5.600044   \n",
            "4           44.190936                        0.566486   \n",
            "\n",
            "   ratio_to_median_purchase_price  repeat_retailer  used_chip  \\\n",
            "0                        1.945940                1          1   \n",
            "1                        1.294219                1          0   \n",
            "2                        0.427715                1          0   \n",
            "3                        0.362663                1          1   \n",
            "4                        2.222767                1          1   \n",
            "\n",
            "   used_pin_number  online_order  class  \n",
            "0                0             0      0  \n",
            "1                0             0      0  \n",
            "2                0             1      0  \n",
            "3                0             1      0  \n",
            "4                0             1      0  \n",
            "\n",
            "Fraudulent Transactions:\n",
            "     distance_from_home  distance_from_last_transaction  \\\n",
            "13            2.131956                       56.372401   \n",
            "24            3.803057                       67.241081   \n",
            "29           15.694986                      175.989182   \n",
            "35           26.711462                        1.552008   \n",
            "36           10.664474                        1.565769   \n",
            "\n",
            "    ratio_to_median_purchase_price  repeat_retailer  used_chip  \\\n",
            "13                        6.358667                1          0   \n",
            "24                        1.872950                1          0   \n",
            "29                        0.855623                1          0   \n",
            "35                        4.603601                1          1   \n",
            "36                        4.886521                1          0   \n",
            "\n",
            "    used_pin_number  online_order  class  \n",
            "13                0             1      1  \n",
            "24                0             1      1  \n",
            "29                0             1      1  \n",
            "35                0             1      1  \n",
            "36                0             1      1  \n"
          ]
        }
      ],
      "source": [
        "# Displaying the first few rows of each DataFrame to ensure they were separated correctly\n",
        "print(\"Legitimate Transactions:\\n\", legit.head())\n",
        "print(\"\\nFraudulent Transactions:\\n\", fraud.head())\n"
      ]
    },
    {
      "cell_type": "code",
      "execution_count": 11,
      "metadata": {},
      "outputs": [
        {
          "name": "stdout",
          "output_type": "stream",
          "text": [
            "\n",
            "Statistical measures for legitimate transactions (distance_from_home):\n",
            "count    912597.000000\n",
            "mean         22.832976\n",
            "std          52.828655\n",
            "min           0.004874\n",
            "25%           3.828942\n",
            "50%           9.673847\n",
            "75%          24.158057\n",
            "max        8777.136420\n",
            "Name: distance_from_home, dtype: float64\n"
          ]
        }
      ],
      "source": [
        "# Optionally, displaying statistical measures of a specific column for both datasets\n",
        "print(\"\\nStatistical measures for legitimate transactions (distance_from_home):\")\n",
        "print(legit['distance_from_home'].describe())\n",
        "\n"
      ]
    },
    {
      "cell_type": "code",
      "execution_count": 12,
      "metadata": {},
      "outputs": [
        {
          "name": "stdout",
          "output_type": "stream",
          "text": [
            "\n",
            "Statistical measures for fraudulent transactions (distance_from_home):\n",
            "count    87403.000000\n",
            "mean        66.261876\n",
            "std        134.391608\n",
            "min          0.025847\n",
            "25%          4.585729\n",
            "50%         15.454219\n",
            "75%        101.110104\n",
            "max      10632.723670\n",
            "Name: distance_from_home, dtype: float64\n"
          ]
        }
      ],
      "source": [
        "print(\"\\nStatistical measures for fraudulent transactions (distance_from_home):\")\n",
        "print(fraud['distance_from_home'].describe())"
      ]
    },
    {
      "cell_type": "code",
      "execution_count": 13,
      "metadata": {
        "colab": {
          "base_uri": "https://localhost:8080/"
        },
        "id": "zsrMgOdoVnrV",
        "outputId": "3ca353f2-4339-435e-9e5b-b4080bf7f608"
      },
      "outputs": [
        {
          "name": "stdout",
          "output_type": "stream",
          "text": [
            "(912597, 8)\n",
            "(87403, 8)\n"
          ]
        }
      ],
      "source": [
        "print(legit.shape)\n",
        "print(fraud.shape)"
      ]
    },
    {
      "cell_type": "code",
      "execution_count": 14,
      "metadata": {
        "colab": {
          "base_uri": "https://localhost:8080/"
        },
        "id": "1s3KGshBVsTb",
        "outputId": "a5a35c33-3ca5-47d0-d060-dc53c2497f71"
      },
      "outputs": [
        {
          "data": {
            "text/html": [
              "<div>\n",
              "<style scoped>\n",
              "    .dataframe tbody tr th:only-of-type {\n",
              "        vertical-align: middle;\n",
              "    }\n",
              "\n",
              "    .dataframe tbody tr th {\n",
              "        vertical-align: top;\n",
              "    }\n",
              "\n",
              "    .dataframe thead th {\n",
              "        text-align: right;\n",
              "    }\n",
              "</style>\n",
              "<table border=\"1\" class=\"dataframe\">\n",
              "  <thead>\n",
              "    <tr style=\"text-align: right;\">\n",
              "      <th></th>\n",
              "      <th>distance_from_home</th>\n",
              "      <th>distance_from_last_transaction</th>\n",
              "      <th>ratio_to_median_purchase_price</th>\n",
              "      <th>repeat_retailer</th>\n",
              "      <th>used_chip</th>\n",
              "      <th>used_pin_number</th>\n",
              "      <th>online_order</th>\n",
              "      <th>class</th>\n",
              "    </tr>\n",
              "  </thead>\n",
              "  <tbody>\n",
              "    <tr>\n",
              "      <th>count</th>\n",
              "      <td>912597.000000</td>\n",
              "      <td>912597.000000</td>\n",
              "      <td>912597.000000</td>\n",
              "      <td>912597.000000</td>\n",
              "      <td>912597.000000</td>\n",
              "      <td>912597.000000</td>\n",
              "      <td>912597.000000</td>\n",
              "      <td>912597.0</td>\n",
              "    </tr>\n",
              "    <tr>\n",
              "      <th>mean</th>\n",
              "      <td>22.832976</td>\n",
              "      <td>4.301391</td>\n",
              "      <td>1.423642</td>\n",
              "      <td>0.881672</td>\n",
              "      <td>0.359402</td>\n",
              "      <td>0.109944</td>\n",
              "      <td>0.622225</td>\n",
              "      <td>0.0</td>\n",
              "    </tr>\n",
              "    <tr>\n",
              "      <th>std</th>\n",
              "      <td>52.828655</td>\n",
              "      <td>22.472359</td>\n",
              "      <td>1.946152</td>\n",
              "      <td>0.322997</td>\n",
              "      <td>0.479825</td>\n",
              "      <td>0.312821</td>\n",
              "      <td>0.484831</td>\n",
              "      <td>0.0</td>\n",
              "    </tr>\n",
              "    <tr>\n",
              "      <th>min</th>\n",
              "      <td>0.004874</td>\n",
              "      <td>0.000118</td>\n",
              "      <td>0.004399</td>\n",
              "      <td>0.000000</td>\n",
              "      <td>0.000000</td>\n",
              "      <td>0.000000</td>\n",
              "      <td>0.000000</td>\n",
              "      <td>0.0</td>\n",
              "    </tr>\n",
              "    <tr>\n",
              "      <th>25%</th>\n",
              "      <td>3.828942</td>\n",
              "      <td>0.293859</td>\n",
              "      <td>0.449768</td>\n",
              "      <td>1.000000</td>\n",
              "      <td>0.000000</td>\n",
              "      <td>0.000000</td>\n",
              "      <td>0.000000</td>\n",
              "      <td>0.0</td>\n",
              "    </tr>\n",
              "    <tr>\n",
              "      <th>50%</th>\n",
              "      <td>9.673847</td>\n",
              "      <td>0.985074</td>\n",
              "      <td>0.913950</td>\n",
              "      <td>1.000000</td>\n",
              "      <td>0.000000</td>\n",
              "      <td>0.000000</td>\n",
              "      <td>1.000000</td>\n",
              "      <td>0.0</td>\n",
              "    </tr>\n",
              "    <tr>\n",
              "      <th>75%</th>\n",
              "      <td>24.158057</td>\n",
              "      <td>3.268578</td>\n",
              "      <td>1.788918</td>\n",
              "      <td>1.000000</td>\n",
              "      <td>1.000000</td>\n",
              "      <td>0.000000</td>\n",
              "      <td>1.000000</td>\n",
              "      <td>0.0</td>\n",
              "    </tr>\n",
              "    <tr>\n",
              "      <th>max</th>\n",
              "      <td>8777.136420</td>\n",
              "      <td>11851.104560</td>\n",
              "      <td>267.802942</td>\n",
              "      <td>1.000000</td>\n",
              "      <td>1.000000</td>\n",
              "      <td>1.000000</td>\n",
              "      <td>1.000000</td>\n",
              "      <td>0.0</td>\n",
              "    </tr>\n",
              "  </tbody>\n",
              "</table>\n",
              "</div>"
            ],
            "text/plain": [
              "       distance_from_home  distance_from_last_transaction  \\\n",
              "count       912597.000000                   912597.000000   \n",
              "mean            22.832976                        4.301391   \n",
              "std             52.828655                       22.472359   \n",
              "min              0.004874                        0.000118   \n",
              "25%              3.828942                        0.293859   \n",
              "50%              9.673847                        0.985074   \n",
              "75%             24.158057                        3.268578   \n",
              "max           8777.136420                    11851.104560   \n",
              "\n",
              "       ratio_to_median_purchase_price  repeat_retailer      used_chip  \\\n",
              "count                   912597.000000    912597.000000  912597.000000   \n",
              "mean                         1.423642         0.881672       0.359402   \n",
              "std                          1.946152         0.322997       0.479825   \n",
              "min                          0.004399         0.000000       0.000000   \n",
              "25%                          0.449768         1.000000       0.000000   \n",
              "50%                          0.913950         1.000000       0.000000   \n",
              "75%                          1.788918         1.000000       1.000000   \n",
              "max                        267.802942         1.000000       1.000000   \n",
              "\n",
              "       used_pin_number   online_order     class  \n",
              "count    912597.000000  912597.000000  912597.0  \n",
              "mean          0.109944       0.622225       0.0  \n",
              "std           0.312821       0.484831       0.0  \n",
              "min           0.000000       0.000000       0.0  \n",
              "25%           0.000000       0.000000       0.0  \n",
              "50%           0.000000       1.000000       0.0  \n",
              "75%           0.000000       1.000000       0.0  \n",
              "max           1.000000       1.000000       0.0  "
            ]
          },
          "execution_count": 14,
          "metadata": {},
          "output_type": "execute_result"
        }
      ],
      "source": [
        "# statistical measures of the data\n",
        "legit.describe()"
      ]
    },
    {
      "cell_type": "code",
      "execution_count": 15,
      "metadata": {
        "colab": {
          "base_uri": "https://localhost:8080/"
        },
        "id": "KkU3Mzr5V7fR",
        "outputId": "30e87d03-1587-45e9-bc27-fd7bc3a5a150"
      },
      "outputs": [
        {
          "data": {
            "text/html": [
              "<div>\n",
              "<style scoped>\n",
              "    .dataframe tbody tr th:only-of-type {\n",
              "        vertical-align: middle;\n",
              "    }\n",
              "\n",
              "    .dataframe tbody tr th {\n",
              "        vertical-align: top;\n",
              "    }\n",
              "\n",
              "    .dataframe thead th {\n",
              "        text-align: right;\n",
              "    }\n",
              "</style>\n",
              "<table border=\"1\" class=\"dataframe\">\n",
              "  <thead>\n",
              "    <tr style=\"text-align: right;\">\n",
              "      <th></th>\n",
              "      <th>distance_from_home</th>\n",
              "      <th>distance_from_last_transaction</th>\n",
              "      <th>ratio_to_median_purchase_price</th>\n",
              "      <th>repeat_retailer</th>\n",
              "      <th>used_chip</th>\n",
              "      <th>used_pin_number</th>\n",
              "      <th>online_order</th>\n",
              "      <th>class</th>\n",
              "    </tr>\n",
              "  </thead>\n",
              "  <tbody>\n",
              "    <tr>\n",
              "      <th>count</th>\n",
              "      <td>87403.000000</td>\n",
              "      <td>87403.000000</td>\n",
              "      <td>87403.000000</td>\n",
              "      <td>87403.000000</td>\n",
              "      <td>87403.000000</td>\n",
              "      <td>87403.000000</td>\n",
              "      <td>87403.000000</td>\n",
              "      <td>87403.0</td>\n",
              "    </tr>\n",
              "    <tr>\n",
              "      <th>mean</th>\n",
              "      <td>66.261876</td>\n",
              "      <td>12.712185</td>\n",
              "      <td>6.006323</td>\n",
              "      <td>0.880119</td>\n",
              "      <td>0.256399</td>\n",
              "      <td>0.003123</td>\n",
              "      <td>0.946318</td>\n",
              "      <td>1.0</td>\n",
              "    </tr>\n",
              "    <tr>\n",
              "      <th>std</th>\n",
              "      <td>134.391608</td>\n",
              "      <td>47.997697</td>\n",
              "      <td>5.564320</td>\n",
              "      <td>0.324825</td>\n",
              "      <td>0.436647</td>\n",
              "      <td>0.055801</td>\n",
              "      <td>0.225391</td>\n",
              "      <td>0.0</td>\n",
              "    </tr>\n",
              "    <tr>\n",
              "      <th>min</th>\n",
              "      <td>0.025847</td>\n",
              "      <td>0.000407</td>\n",
              "      <td>0.011966</td>\n",
              "      <td>0.000000</td>\n",
              "      <td>0.000000</td>\n",
              "      <td>0.000000</td>\n",
              "      <td>0.000000</td>\n",
              "      <td>1.0</td>\n",
              "    </tr>\n",
              "    <tr>\n",
              "      <th>25%</th>\n",
              "      <td>4.585729</td>\n",
              "      <td>0.328199</td>\n",
              "      <td>3.500270</td>\n",
              "      <td>1.000000</td>\n",
              "      <td>0.000000</td>\n",
              "      <td>0.000000</td>\n",
              "      <td>1.000000</td>\n",
              "      <td>1.0</td>\n",
              "    </tr>\n",
              "    <tr>\n",
              "      <th>50%</th>\n",
              "      <td>15.454219</td>\n",
              "      <td>1.157631</td>\n",
              "      <td>5.071294</td>\n",
              "      <td>1.000000</td>\n",
              "      <td>0.000000</td>\n",
              "      <td>0.000000</td>\n",
              "      <td>1.000000</td>\n",
              "      <td>1.0</td>\n",
              "    </tr>\n",
              "    <tr>\n",
              "      <th>75%</th>\n",
              "      <td>101.110104</td>\n",
              "      <td>4.598504</td>\n",
              "      <td>7.331222</td>\n",
              "      <td>1.000000</td>\n",
              "      <td>1.000000</td>\n",
              "      <td>0.000000</td>\n",
              "      <td>1.000000</td>\n",
              "      <td>1.0</td>\n",
              "    </tr>\n",
              "    <tr>\n",
              "      <th>max</th>\n",
              "      <td>10632.723670</td>\n",
              "      <td>2160.499922</td>\n",
              "      <td>266.689692</td>\n",
              "      <td>1.000000</td>\n",
              "      <td>1.000000</td>\n",
              "      <td>1.000000</td>\n",
              "      <td>1.000000</td>\n",
              "      <td>1.0</td>\n",
              "    </tr>\n",
              "  </tbody>\n",
              "</table>\n",
              "</div>"
            ],
            "text/plain": [
              "       distance_from_home  distance_from_last_transaction  \\\n",
              "count        87403.000000                    87403.000000   \n",
              "mean            66.261876                       12.712185   \n",
              "std            134.391608                       47.997697   \n",
              "min              0.025847                        0.000407   \n",
              "25%              4.585729                        0.328199   \n",
              "50%             15.454219                        1.157631   \n",
              "75%            101.110104                        4.598504   \n",
              "max          10632.723670                     2160.499922   \n",
              "\n",
              "       ratio_to_median_purchase_price  repeat_retailer     used_chip  \\\n",
              "count                    87403.000000     87403.000000  87403.000000   \n",
              "mean                         6.006323         0.880119      0.256399   \n",
              "std                          5.564320         0.324825      0.436647   \n",
              "min                          0.011966         0.000000      0.000000   \n",
              "25%                          3.500270         1.000000      0.000000   \n",
              "50%                          5.071294         1.000000      0.000000   \n",
              "75%                          7.331222         1.000000      1.000000   \n",
              "max                        266.689692         1.000000      1.000000   \n",
              "\n",
              "       used_pin_number  online_order    class  \n",
              "count     87403.000000  87403.000000  87403.0  \n",
              "mean          0.003123      0.946318      1.0  \n",
              "std           0.055801      0.225391      0.0  \n",
              "min           0.000000      0.000000      1.0  \n",
              "25%           0.000000      1.000000      1.0  \n",
              "50%           0.000000      1.000000      1.0  \n",
              "75%           0.000000      1.000000      1.0  \n",
              "max           1.000000      1.000000      1.0  "
            ]
          },
          "execution_count": 15,
          "metadata": {},
          "output_type": "execute_result"
        }
      ],
      "source": [
        "fraud.describe()"
      ]
    },
    {
      "cell_type": "code",
      "execution_count": 16,
      "metadata": {
        "colab": {
          "base_uri": "https://localhost:8080/",
          "height": 158
        },
        "id": "aFUMMHwYWMvp",
        "outputId": "02e34b2d-07d0-4e64-9e79-a59bc22d7ed8"
      },
      "outputs": [
        {
          "data": {
            "text/html": [
              "<div>\n",
              "<style scoped>\n",
              "    .dataframe tbody tr th:only-of-type {\n",
              "        vertical-align: middle;\n",
              "    }\n",
              "\n",
              "    .dataframe tbody tr th {\n",
              "        vertical-align: top;\n",
              "    }\n",
              "\n",
              "    .dataframe thead th {\n",
              "        text-align: right;\n",
              "    }\n",
              "</style>\n",
              "<table border=\"1\" class=\"dataframe\">\n",
              "  <thead>\n",
              "    <tr style=\"text-align: right;\">\n",
              "      <th></th>\n",
              "      <th>distance_from_home</th>\n",
              "      <th>distance_from_last_transaction</th>\n",
              "      <th>ratio_to_median_purchase_price</th>\n",
              "      <th>repeat_retailer</th>\n",
              "      <th>used_chip</th>\n",
              "      <th>used_pin_number</th>\n",
              "      <th>online_order</th>\n",
              "    </tr>\n",
              "    <tr>\n",
              "      <th>class</th>\n",
              "      <th></th>\n",
              "      <th></th>\n",
              "      <th></th>\n",
              "      <th></th>\n",
              "      <th></th>\n",
              "      <th></th>\n",
              "      <th></th>\n",
              "    </tr>\n",
              "  </thead>\n",
              "  <tbody>\n",
              "    <tr>\n",
              "      <th>0</th>\n",
              "      <td>22.832976</td>\n",
              "      <td>4.301391</td>\n",
              "      <td>1.423642</td>\n",
              "      <td>0.881672</td>\n",
              "      <td>0.359402</td>\n",
              "      <td>0.109944</td>\n",
              "      <td>0.622225</td>\n",
              "    </tr>\n",
              "    <tr>\n",
              "      <th>1</th>\n",
              "      <td>66.261876</td>\n",
              "      <td>12.712185</td>\n",
              "      <td>6.006323</td>\n",
              "      <td>0.880119</td>\n",
              "      <td>0.256399</td>\n",
              "      <td>0.003123</td>\n",
              "      <td>0.946318</td>\n",
              "    </tr>\n",
              "  </tbody>\n",
              "</table>\n",
              "</div>"
            ],
            "text/plain": [
              "       distance_from_home  distance_from_last_transaction  \\\n",
              "class                                                       \n",
              "0               22.832976                        4.301391   \n",
              "1               66.261876                       12.712185   \n",
              "\n",
              "       ratio_to_median_purchase_price  repeat_retailer  used_chip  \\\n",
              "class                                                               \n",
              "0                            1.423642         0.881672   0.359402   \n",
              "1                            6.006323         0.880119   0.256399   \n",
              "\n",
              "       used_pin_number  online_order  \n",
              "class                                 \n",
              "0             0.109944      0.622225  \n",
              "1             0.003123      0.946318  "
            ]
          },
          "execution_count": 16,
          "metadata": {},
          "output_type": "execute_result"
        }
      ],
      "source": [
        "# compare the values for both transactions\n",
        "data.groupby('class').mean()"
      ]
    },
    {
      "cell_type": "markdown",
      "metadata": {},
      "source": [
        "It seems like your original dataset is heavily imbalanced, with 87403 legitimate transactions and only 1 fraudulent transaction.\n",
        "\n",
        "To create a synthetic dataset with a similar distribution, we can generate a dataset with a large number of legitimate transactions and a small number of fraudulent transactions. "
      ]
    },
    {
      "cell_type": "markdown",
      "metadata": {
        "id": "ybHNYPpEW0N6"
      },
      "source": [
        "Under-Sampling"
      ]
    },
    {
      "cell_type": "markdown",
      "metadata": {
        "id": "MlXkIGEIW3KM"
      },
      "source": [
        "Build a sample dataset containing similar distribution of normal transactions and Fraudulent Transactions"
      ]
    },
    {
      "cell_type": "code",
      "execution_count": 17,
      "metadata": {},
      "outputs": [
        {
          "name": "stdout",
          "output_type": "stream",
          "text": [
            "Class distribution:\n",
            "class\n",
            "1    1000\n",
            "0    1000\n",
            "Name: count, dtype: int64\n",
            "\n",
            "Sample data:\n",
            "    feature0   feature1  feature2  feature3  feature4  feature5  feature6  \\\n",
            "0  70.270969  15.591866  5.605405  0.885036  0.242136  0.111998  1.156070   \n",
            "1  19.200307   6.518310  0.134044  0.907716  0.232711  0.158113  0.746895   \n",
            "2  66.977170  16.424964  5.871703  0.884967  0.310039  0.063534  1.376920   \n",
            "3  20.232183   5.895434  2.250579  0.867797  0.492825  0.080602  0.657513   \n",
            "4  59.922185  11.187527  5.891701  0.824883  0.394896 -0.000628  0.979801   \n",
            "\n",
            "   class  \n",
            "0      1  \n",
            "1      0  \n",
            "2      1  \n",
            "3      0  \n",
            "4      1  \n"
          ]
        }
      ],
      "source": [
        "import numpy as np\n",
        "import pandas as pd\n",
        "\n",
        "# Set random seed for reproducibility\n",
        "np.random.seed(42)\n",
        "\n",
        "# Define mean and standard deviation for each feature\n",
        "legit_mean = [20, 5, 1.5, 0.9, 0.4, 0.1, 0.6]  # Example mean values for legitimate transactions\n",
        "fraud_mean = [60, 15, 5, 0.9, 0.2, 0.03, 0.9]  # Example mean values for fraudulent transactions\n",
        "std_dev = [5, 2, 1, 0.1, 0.1, 0.05, 0.2]  # Example standard deviation for both classes\n",
        "\n",
        "# Number of samples for each class\n",
        "num_samples = 1000\n",
        "\n",
        "# Generate synthetic data for legitimate transactions\n",
        "legit_data = pd.DataFrame()\n",
        "for i, mean in enumerate(legit_mean):\n",
        "    legit_data['feature{}'.format(i)] = np.random.normal(mean, std_dev[i], num_samples)\n",
        "\n",
        "legit_data['class'] = 0  # Add class label for legitimate transactions\n",
        "\n",
        "# Generate synthetic data for fraudulent transactions\n",
        "fraud_data = pd.DataFrame()\n",
        "for i, mean in enumerate(fraud_mean):\n",
        "    fraud_data['feature{}'.format(i)] = np.random.normal(mean, std_dev[i], num_samples)\n",
        "\n",
        "fraud_data['class'] = 1  # Add class label for fraudulent transactions\n",
        "\n",
        "# Combine both datasets\n",
        "data = pd.concat([legit_data, fraud_data], ignore_index=True)\n",
        "\n",
        "# Shuffle the dataset\n",
        "data = data.sample(frac=1, random_state=42).reset_index(drop=True)\n",
        "\n",
        "# Display class distribution\n",
        "print(\"Class distribution:\")\n",
        "print(data['class'].value_counts())\n",
        "print(\"\\nSample data:\")\n",
        "print(data.head())\n"
      ]
    },
    {
      "cell_type": "code",
      "execution_count": 18,
      "metadata": {},
      "outputs": [
        {
          "name": "stdout",
          "output_type": "stream",
          "text": [
            "Class distribution:\n",
            "class\n",
            "1    1000\n",
            "0    1000\n",
            "Name: count, dtype: int64\n",
            "\n",
            "Sample data:\n",
            "    feature0   feature1  feature2  feature3  feature4  feature5  feature6  \\\n",
            "0  70.270969  15.591866  5.605405  0.885036  0.242136  0.111998  1.156070   \n",
            "1  19.200307   6.518310  0.134044  0.907716  0.232711  0.158113  0.746895   \n",
            "2  66.977170  16.424964  5.871703  0.884967  0.310039  0.063534  1.376920   \n",
            "3  20.232183   5.895434  2.250579  0.867797  0.492825  0.080602  0.657513   \n",
            "4  59.922185  11.187527  5.891701  0.824883  0.394896 -0.000628  0.979801   \n",
            "\n",
            "   class  \n",
            "0      1  \n",
            "1      0  \n",
            "2      1  \n",
            "3      0  \n",
            "4      1  \n",
            "\n",
            "Training Features Shape: (1600, 7)\n",
            "Training Labels Shape: (1600,)\n",
            "Testing Features Shape: (400, 7)\n",
            "Testing Labels Shape: (400,)\n",
            "\n",
            "Class distribution in training set:\n",
            " class\n",
            "0    800\n",
            "1    800\n",
            "Name: count, dtype: int64\n",
            "\n",
            "Class distribution in testing set:\n",
            " class\n",
            "0    200\n",
            "1    200\n",
            "Name: count, dtype: int64\n"
          ]
        }
      ],
      "source": [
        "import numpy as np\n",
        "import pandas as pd\n",
        "from sklearn.model_selection import train_test_split\n",
        "\n",
        "# Set random seed for reproducibility\n",
        "np.random.seed(42)\n",
        "\n",
        "# Define mean and standard deviation for each feature\n",
        "legit_mean = [20, 5, 1.5, 0.9, 0.4, 0.1, 0.6]  # Example mean values for legitimate transactions\n",
        "fraud_mean = [60, 15, 5, 0.9, 0.2, 0.03, 0.9]  # Example mean values for fraudulent transactions\n",
        "std_dev = [5, 2, 1, 0.1, 0.1, 0.05, 0.2]  # Example standard deviation for both classes\n",
        "\n",
        "# Number of samples for each class\n",
        "num_samples = 1000\n",
        "\n",
        "# Generate synthetic data for legitimate transactions\n",
        "legit_data = pd.DataFrame()\n",
        "for i, mean in enumerate(legit_mean):\n",
        "    legit_data['feature{}'.format(i)] = np.random.normal(mean, std_dev[i], num_samples)\n",
        "\n",
        "legit_data['class'] = 0  # Add class label for legitimate transactions\n",
        "\n",
        "# Generate synthetic data for fraudulent transactions\n",
        "fraud_data = pd.DataFrame()\n",
        "for i, mean in enumerate(fraud_mean):\n",
        "    fraud_data['feature{}'.format(i)] = np.random.normal(mean, std_dev[i], num_samples)\n",
        "\n",
        "fraud_data['class'] = 1  # Add class label for fraudulent transactions\n",
        "\n",
        "# Combine both datasets\n",
        "data = pd.concat([legit_data, fraud_data], ignore_index=True)\n",
        "\n",
        "# Shuffle the dataset\n",
        "data = data.sample(frac=1, random_state=42).reset_index(drop=True)\n",
        "\n",
        "# Display class distribution\n",
        "print(\"Class distribution:\")\n",
        "print(data['class'].value_counts())\n",
        "print(\"\\nSample data:\")\n",
        "print(data.head())\n",
        "\n",
        "# Splitting the data into Features (X) and Target (Y)\n",
        "X = data.drop(columns='class', axis=1)\n",
        "Y = data['class']\n",
        "\n",
        "# Splitting the data into training and testing sets\n",
        "X_train, X_test, Y_train, Y_test = train_test_split(X, Y, test_size=0.2, stratify=Y, random_state=2)\n",
        "\n",
        "# Display the shape of the training and testing sets to verify the split\n",
        "print(\"\\nTraining Features Shape:\", X_train.shape)\n",
        "print(\"Training Labels Shape:\", Y_train.shape)\n",
        "print(\"Testing Features Shape:\", X_test.shape)\n",
        "print(\"Testing Labels Shape:\", Y_test.shape)\n",
        "\n",
        "# Display the distribution of classes in the training and testing sets to ensure stratification\n",
        "print(\"\\nClass distribution in training set:\\n\", Y_train.value_counts())\n",
        "print(\"\\nClass distribution in testing set:\\n\", Y_test.value_counts())\n"
      ]
    },
    {
      "cell_type": "code",
      "execution_count": 19,
      "metadata": {
        "colab": {
          "base_uri": "https://localhost:8080/"
        },
        "id": "FUmwXz99ZuvK",
        "outputId": "a5645b66-417f-4e66-af0f-05cd0a78e182"
      },
      "outputs": [
        {
          "name": "stdout",
          "output_type": "stream",
          "text": [
            "(2000, 7) (1600, 7) (400, 7)\n"
          ]
        }
      ],
      "source": [
        "print(X.shape, X_train.shape, X_test.shape)"
      ]
    },
    {
      "cell_type": "markdown",
      "metadata": {
        "id": "aowgjqbeZ7d1"
      },
      "source": [
        "Model Training"
      ]
    },
    {
      "cell_type": "code",
      "execution_count": 20,
      "metadata": {},
      "outputs": [
        {
          "name": "stdout",
          "output_type": "stream",
          "text": [
            "Training Accuracy: 1.0\n",
            "Testing Accuracy: 1.0\n",
            "\n",
            "Classification Report:\n",
            "              precision    recall  f1-score   support\n",
            "\n",
            "           0       1.00      1.00      1.00       200\n",
            "           1       1.00      1.00      1.00       200\n",
            "\n",
            "    accuracy                           1.00       400\n",
            "   macro avg       1.00      1.00      1.00       400\n",
            "weighted avg       1.00      1.00      1.00       400\n",
            "\n"
          ]
        }
      ],
      "source": [
        "from sklearn.ensemble import RandomForestClassifier\n",
        "from sklearn.metrics import accuracy_score, classification_report\n",
        "\n",
        "# Initialize Random Forest Classifier\n",
        "model = RandomForestClassifier(n_estimators=100, random_state=42)\n",
        "\n",
        "# Train the model\n",
        "model.fit(X_train, Y_train)\n",
        "\n",
        "# Make predictions\n",
        "train_preds = model.predict(X_train)\n",
        "test_preds = model.predict(X_test)\n",
        "\n",
        "# Evaluate the model\n",
        "train_accuracy = accuracy_score(Y_train, train_preds)\n",
        "test_accuracy = accuracy_score(Y_test, test_preds)\n",
        "\n",
        "print(\"Training Accuracy:\", train_accuracy)\n",
        "print(\"Testing Accuracy:\", test_accuracy)\n",
        "\n",
        "# Classification report on testing data\n",
        "print(\"\\nClassification Report:\")\n",
        "print(classification_report(Y_test, test_preds))\n"
      ]
    },
    {
      "cell_type": "code",
      "execution_count": 21,
      "metadata": {},
      "outputs": [
        {
          "name": "stdout",
          "output_type": "stream",
          "text": [
            "Sample 1 Predicted Class: 0\n",
            "Sample 2 Predicted Class: 0\n",
            "Sample 3 Predicted Class: 0\n",
            "Sample 4 Predicted Class: 0\n",
            "Sample 5 Predicted Class: 1\n"
          ]
        }
      ],
      "source": [
        "# Select a few samples from the test set for prediction\n",
        "samples_to_predict = X_test[:5]  # Select the first 5 samples for prediction\n",
        "\n",
        "# Make predictions\n",
        "predictions = model.predict(samples_to_predict)\n",
        "\n",
        "# Display the predicted class for each sample\n",
        "for i, pred in enumerate(predictions):\n",
        "    print(\"Sample\", i+1, \"Predicted Class:\", pred)\n"
      ]
    },
    {
      "cell_type": "code",
      "execution_count": 22,
      "metadata": {},
      "outputs": [],
      "source": [
        "import pickle\n",
        "\n",
        "# Assuming 'model' is your trained model\n",
        "with open('model.pkl', 'wb') as f:\n",
        "    pickle.dump(model, f)\n"
      ]
    },
    {
      "cell_type": "code",
      "execution_count": 23,
      "metadata": {},
      "outputs": [
        {
          "ename": "NameError",
          "evalue": "name 'nbformat' is not defined",
          "output_type": "error",
          "traceback": [
            "\u001b[1;31m---------------------------------------------------------------------------\u001b[0m",
            "\u001b[1;31mNameError\u001b[0m                                 Traceback (most recent call last)",
            "Cell \u001b[1;32mIn[23], line 6\u001b[0m\n\u001b[0;32m      4\u001b[0m notebook_filename \u001b[38;5;241m=\u001b[39m \u001b[38;5;124m\"\u001b[39m\u001b[38;5;124mCredit_Card_Fraud_Detection.ipynb\u001b[39m\u001b[38;5;124m\"\u001b[39m\n\u001b[0;32m      5\u001b[0m \u001b[38;5;28;01mwith\u001b[39;00m \u001b[38;5;28mopen\u001b[39m(notebook_filename) \u001b[38;5;28;01mas\u001b[39;00m f:\n\u001b[1;32m----> 6\u001b[0m     nb \u001b[38;5;241m=\u001b[39m \u001b[43mnbformat\u001b[49m\u001b[38;5;241m.\u001b[39mread(f, as_version\u001b[38;5;241m=\u001b[39m\u001b[38;5;241m4\u001b[39m)\n\u001b[0;32m      8\u001b[0m \u001b[38;5;66;03m# Create an HTML exporter\u001b[39;00m\n\u001b[0;32m      9\u001b[0m html_exporter \u001b[38;5;241m=\u001b[39m HTMLExporter()\n",
            "\u001b[1;31mNameError\u001b[0m: name 'nbformat' is not defined"
          ]
        }
      ],
      "source": [
        "from nbconvert import HTMLExporter\n",
        "\n",
        "# Load the notebook\n",
        "notebook_filename = \"Credit_Card_Fraud_Detection.ipynb\"\n",
        "with open(notebook_filename) as f:\n",
        "    nb = nbformat.read(f, as_version=4)\n",
        "\n",
        "# Create an HTML exporter\n",
        "html_exporter = HTMLExporter()\n",
        "\n",
        "# Convert the notebook to HTML\n",
        "html_data, _ = html_exporter.from_notebook_node(nb)\n",
        "\n",
        "# Write the HTML data to a file\n",
        "html_filename = \"Credit_Card_Fraud_Detection.html\"\n",
        "with open(html_filename, \"w\") as f:\n",
        "    f.write(html_data)\n",
        "    \n",
        "print(\"HTML created successfully:\", html_filename)\n"
      ]
    }
  ],
  "metadata": {
    "colab": {
      "provenance": []
    },
    "kernelspec": {
      "display_name": "Python 3",
      "name": "python3"
    },
    "language_info": {
      "codemirror_mode": {
        "name": "ipython",
        "version": 3
      },
      "file_extension": ".py",
      "mimetype": "text/x-python",
      "name": "python",
      "nbconvert_exporter": "python",
      "pygments_lexer": "ipython3",
      "version": "3.11.4"
    }
  },
  "nbformat": 4,
  "nbformat_minor": 0
}
